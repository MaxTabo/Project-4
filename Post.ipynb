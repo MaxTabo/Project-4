{
 "cells": [
  {
   "cell_type": "markdown",
   "id": "d436b1f6",
   "metadata": {},
   "source": [
    "# Inserting and deleting information."
   ]
  },
  {
   "cell_type": "code",
   "execution_count": 1,
   "id": "cfc3db8c",
   "metadata": {},
   "outputs": [],
   "source": [
    "from flask import Flask, request, jsonify\n",
    "import numpy as np\n",
    "import markdown.extensions.fenced_code\n",
    "import tools.sql_queries as tools\n",
    "from nltk.sentiment.vader import SentimentIntensityAnalyzer\n",
    "sia = SentimentIntensityAnalyzer()\n",
    "import pandas as pd\n",
    "import requests\n"
   ]
  },
  {
   "cell_type": "code",
   "execution_count": 2,
   "id": "0402ef16",
   "metadata": {},
   "outputs": [],
   "source": [
    "from tools.sql_queries import insert_one_row, delete_row\n"
   ]
  },
  {
   "cell_type": "code",
   "execution_count": 14,
   "id": "7719ee32",
   "metadata": {},
   "outputs": [],
   "source": [
    "dict_ins = {\n",
    "    \"name\" : name,\"text\":text,\"compound\":compound\n",
    "}"
   ]
  },
  {
   "cell_type": "code",
   "execution_count": 28,
   "id": "50f05576",
   "metadata": {},
   "outputs": [
    {
     "data": {
      "text/plain": [
       "<Response [200]>"
      ]
     },
     "execution_count": 28,
     "metadata": {},
     "output_type": "execute_result"
    }
   ],
   "source": [
    "requests.post(f\"http://127.0.0.1:9000/insertrow\", params=dict_ins )"
   ]
  },
  {
   "cell_type": "code",
   "execution_count": 24,
   "id": "e7fbdaa5",
   "metadata": {},
   "outputs": [],
   "source": [
    "name = 'PEPE'"
   ]
  },
  {
   "cell_type": "code",
   "execution_count": 29,
   "id": "bde3fffb",
   "metadata": {},
   "outputs": [
    {
     "data": {
      "text/plain": [
       "<Response [200]>"
      ]
     },
     "execution_count": 29,
     "metadata": {},
     "output_type": "execute_result"
    }
   ],
   "source": [
    "dict_ = {\n",
    "    \"name\" : name\n",
    "}\n",
    "requests.delete(f\"http://127.0.0.1:9000/delete_row\", params= dict_) "
   ]
  },
  {
   "cell_type": "code",
   "execution_count": null,
   "id": "8364f8a7",
   "metadata": {},
   "outputs": [],
   "source": []
  }
 ],
 "metadata": {
  "kernelspec": {
   "display_name": "Python 3 (ipykernel)",
   "language": "python",
   "name": "python3"
  },
  "language_info": {
   "codemirror_mode": {
    "name": "ipython",
    "version": 3
   },
   "file_extension": ".py",
   "mimetype": "text/x-python",
   "name": "python",
   "nbconvert_exporter": "python",
   "pygments_lexer": "ipython3",
   "version": "3.9.12"
  }
 },
 "nbformat": 4,
 "nbformat_minor": 5
}
