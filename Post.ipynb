{
 "cells": [
  {
   "cell_type": "markdown",
   "id": "24c15c6f",
   "metadata": {},
   "source": [
    "# Inserting and deleting information."
   ]
  },
  {
   "cell_type": "code",
   "execution_count": 1,
   "id": "62662215",
   "metadata": {},
   "outputs": [],
   "source": [
    "from flask import Flask, request, jsonify\n",
    "import numpy as np\n",
    "import markdown.extensions.fenced_code\n",
    "import tools.sql_queries as tools\n",
    "from nltk.sentiment.vader import SentimentIntensityAnalyzer\n",
    "sia = SentimentIntensityAnalyzer()\n",
    "import pandas as pd\n",
    "import requests\n"
   ]
  },
  {
   "cell_type": "code",
   "execution_count": 2,
   "id": "62f04dc5",
   "metadata": {},
   "outputs": [],
   "source": [
    "from tools.sql_queries import insert_one_row, delete_row\n"
   ]
  },
  {
   "cell_type": "code",
   "execution_count": 14,
   "id": "5e45a9cd",
   "metadata": {},
   "outputs": [],
   "source": [
    "dict_ins = {\n",
    "    \"name\" : name,\"text\":text,\"compound\":compound\n",
    "}"
   ]
  },
  {
   "cell_type": "code",
   "execution_count": 28,
   "id": "044e2692",
   "metadata": {},
   "outputs": [
    {
     "data": {
      "text/plain": [
       "<Response [200]>"
      ]
     },
     "execution_count": 28,
     "metadata": {},
     "output_type": "execute_result"
    }
   ],
   "source": [
    "requests.post(f\"http://127.0.0.1:9000/insertrow\", params=dict_ins )"
   ]
  },
  {
   "cell_type": "code",
   "execution_count": 24,
   "id": "331b9ff1",
   "metadata": {},
   "outputs": [],
   "source": [
    "name = 'PEPE'"
   ]
  },
  {
   "cell_type": "code",
   "execution_count": 29,
   "id": "2aa8125c",
   "metadata": {},
   "outputs": [
    {
     "data": {
      "text/plain": [
       "<Response [200]>"
      ]
     },
     "execution_count": 29,
     "metadata": {},
     "output_type": "execute_result"
    }
   ],
   "source": [
    "dict_ = {\n",
    "    \"name\" : name\n",
    "}\n",
    "requests.delete(f\"http://127.0.0.1:9000/delete_row\", params= dict_) "
   ]
  },
  {
   "cell_type": "code",
   "execution_count": null,
   "id": "7bb1e795",
   "metadata": {},
   "outputs": [],
   "source": []
  }
 ],
 "metadata": {
  "kernelspec": {
   "display_name": "Python 3 (ipykernel)",
   "language": "python",
   "name": "python3"
  },
  "language_info": {
   "codemirror_mode": {
    "name": "ipython",
    "version": 3
   },
   "file_extension": ".py",
   "mimetype": "text/x-python",
   "name": "python",
   "nbconvert_exporter": "python",
   "pygments_lexer": "ipython3",
   "version": "3.9.12"
  }
 },
 "nbformat": 4,
 "nbformat_minor": 5
}
