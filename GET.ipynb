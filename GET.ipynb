{
 "cells": [
  {
   "cell_type": "markdown",
   "id": "22f043e6",
   "metadata": {},
   "source": [
    "# Get request."
   ]
  },
  {
   "cell_type": "code",
   "execution_count": 12,
   "id": "329ea2cf",
   "metadata": {},
   "outputs": [],
   "source": [
    "from flask import Flask, request, jsonify\n",
    "import numpy as np\n",
    "import markdown.extensions.fenced_code\n",
    "import tools.sql_queries as tools\n",
    "\n",
    "import pandas as pd\n",
    "import requests\n"
   ]
  },
  {
   "cell_type": "code",
   "execution_count": 13,
   "id": "e7212e32",
   "metadata": {},
   "outputs": [],
   "source": [
    "from tools.sql_queries import get_everything,get_everything_from_name,get_just_text,get_compound"
   ]
  },
  {
   "cell_type": "code",
   "execution_count": 21,
   "id": "38d496b4",
   "metadata": {},
   "outputs": [
    {
     "data": {
      "text/plain": [
       "[{'text': ' Now, comrades. Listen. I have something to tell you. I have a message for you all. Jones the farmer hasnt given us any food for days. '},\n",
       " {'text': ' He hasnt milked the cows for days. '},\n",
       " {'text': ' He hasnt cleaned our barn for days. '},\n",
       " {'text': ' And, on top of that, he beats us with his stick. '},\n",
       " {'text': ' I say enough Comrades, enough We must do something. '},\n",
       " {'text': ' Yes, we are just poor animals. Our lives are miserable. That is the truth. But why are our lives so miserable The answer is Man. Man makes us work. Man takes all our produce. Man is the only creature that takes without giving. Who gives milk '},\n",
       " {'text': ' Who lays eggs '},\n",
       " {'text': ' Who works in the felds '},\n",
       " {'text': ' And who eats us '},\n",
       " {'text': ' Exactly Man is our enemy. Without Man our produce will be our own. Without Man we animals will be rich. Without Man we animals will be rich, free and equal. '},\n",
       " {'text': ' What can we do Work, comrades, work. Night and day, day and night. '},\n",
       " {'text': ' Yes, but we must work for the Revolution. '},\n",
       " {'text': ' Yes, this is my message to you comrades. Revolution The revolution must come. I dont know when, comrades, maybe tomorrow, maybe in a hundred years, but I know that one day the revolution will come. Then we animals will be free. Rich, free and equal. '},\n",
       " {'text': ' Pass this message on. Pass this message on to future generations. Your children and your childrens children must all fght for the revolution Yes, and remember Man is our enemy. Whatever has two legs is an enemy. Whatever has four legs or wings is a friend. No animal must ever live in a house, or sleep in a bed, or wear clothes, or drink alcohol, or touch money. No animal must ever kill any other animal. All animals are equal. '},\n",
       " {'text': ' Now, many years ago when I was a little pig, my mother sang me a song. I had forgotten it, but last night, I remembered it. Listen and learn, comrades. He sings Beasts of England, Beasts of Ireland, Beasts of land, and sea and skies. Hear the hoof beats of tomorrow, see the golden future rise. Now the day of beasts is coming, tyrant man shall lose his throne, And the shining felds of England shall be ruled by beasts alone. The animals join in Beasts of England, Beasts of Ireland, Beasts of land, and sea and skies. Hear the hoof beats of tomorrow, see the golden future rise. Now the day of beasts is coming, tyrant man shall lose his throne, And the shining felds of England shall be ruled by beasts alone. Beasts of England, beasts of Ireland, now Scene '},\n",
       " {'text': ' Well done, everyone. Long live the revolution '},\n",
       " {'text': ' Comrades. We have begun the Revolution '},\n",
       " {'text': ' We will run the farm. Didnt you hear my message Werent you listening, comrade Boxer Without Man we can become rich and free. '},\n",
       " {'text': ' Of course, rich, free and equal. Jones is gone and now we, the animals, will run Manor Farm. '},\n",
       " {'text': ' Yes, good idea, comrade Squealer, if we are free we must learn to vote. '},\n",
       " {'text': ' Very well. Do you have a problem with that, comrade Benjamin '},\n",
       " {'text': ' Good, then it is decided, by absolute majority. Thank you for voting for me, comrades. I am a practical pig, a pig of few words, so Ill work hard and say little. He takes out a prepared speech. These are my election promises. I promise to listen to everyone. I promise to be fair. I promise to treat everyone equally. I promise to be honest. '},\n",
       " {'text': ' No '},\n",
       " {'text': ' Not Manor Farm. From now on Manor Farm will be called Animal Farm. Comrade Squealer, would you mind Squealer changes the Manor Farm sign to Animal Farm. '},\n",
       " {'text': ' Benjamin '},\n",
       " {'text': ' Good, we all agree. It is very important that we all agree. Napoleon throws his election promises on the foor. Benjamin picks it up and keeps it. '},\n",
       " {'text': ' Now we will go into the house. '},\n",
       " {'text': ' No, of course, we wont live in the house, we must never live in the house, but we must see how Man lives. Then we wont make the same mistakes. '},\n",
       " {'text': ' Of course, come on everyone. Lets go in. He pushes Squealer in before him. After you, comrade Squealer. '},\n",
       " {'text': ' This is terrible. No animal must ever live in this house. Agreed '},\n",
       " {'text': ' Yes, everyone out. This place is contaminated with Mans evil. '},\n",
       " {'text': ' Here doggies, doggies. Good boys. Come to daddy. Are you all alone Dont worry, Ill look after you. '},\n",
       " {'text': ' These are the unalterable laws of Animal Farm. These laws must never be changed or broken. '},\n",
       " {'text': ' Now, comrades, to work To the hayfeld Lets see if we can get the harvest in quick, quicker than Jones did. '},\n",
       " {'text': ' Dont worry comrades. We pigs will milk the cows. Our trotters are better than your hooves. We can milk the cows just like Jones did. '},\n",
       " {'text': ' Dont worry about the milk, comrades. The harvest is more important. Go down to the felds and bring in the harvest. Comrade Boxer will lead the way. I will follow in a few minutes. Forward comrades Work hard work hard and we will be free. '},\n",
       " {'text': ' Whats the matter Do you disagree with us, comrade Benjamin Listen everyone it seems comrade Benjamin wants Jones to come back. Do you want Jones to come back and beat you with his stick, comrade Benjamin '},\n",
       " {'text': ' Are you sure '},\n",
       " {'text': ' Good. '},\n",
       " {'text': ' Because were clever. Weve been learning. '},\n",
       " {'text': ' Oh dear, if they cant read the commandments, comrade Squealer, youll have to simplify it. '},\n",
       " {'text': ' Today is a great day. Today we will start to build a windmill. '},\n",
       " {'text': ' Last night I had another dream. '},\n",
       " {'text': ' Comrades, we work hard in the felds, we work hard all day ploughing the felds. '},\n",
       " {'text': ' Comrades, this farm is old fashioned and antiquated. We have only primitive machinery. We have only ploughs, spades and forks. These old fashioned tools make our work very hard. '},\n",
       " {'text': ' Yes, but think of a machine, one machine operated by the wind, operated by the wind to generate electricity. '},\n",
       " {'text': ' Yes, a windmill. The windmill would generate electricity. Then electricity would run the plough. The plough would do the work in the felds, instead of you. '},\n",
       " {'text': ' Yes, just imagine how easy your lives will be. I propose we build a windmill. '},\n",
       " {'text': ' It wont be easy, comrade Boxer, it wont be easy at all. We will have to work hard. escapadetheatre.es Animal Farm EscapadeTheatre '},\n",
       " {'text': ' I calculate it will take a year. '},\n",
       " {'text': ' Yes, a year of hard work but after that our lives will be easy. '},\n",
       " {'text': ' Our lives will be easy and we will only work 3 days a week. '},\n",
       " {'text': ' Perhaps some of us will die, comrade Benjamin, but this sacrifce is for the Revolution. You dont have the right attitude, comrade Benjamin. Be more like comrade Boxer. Discipline, comrades, discipline, thats the key. Lets not argue, comrades, lets vote. '},\n",
       " {'text': ' Then it is decided. We will build the windmill. '},\n",
       " {'text': ' Now we mustnt waste any time. We must start work immediately. Build the windmill '},\n",
       " {'text': ' Enters with vicious puppy dogs. We must work harder comrades, and, therefore, we must change a few rules. Comrade Squealer, read the new rules. '},\n",
       " {'text': ' Squealer, read the rules '},\n",
       " {'text': ' Of course, all animals are equal. But what if you animals make the wrong decision Jones would come back. Do you want Jones to come back, comrades '},\n",
       " {'text': ' Then no more meetings '},\n",
       " {'text': ' The rules, Squealer '},\n",
       " {'text': ' Dont worry, comrades. We pigs will do the dirty business of doing business with Man. Now get to work comrades escapadetheatre.es Animal Farm EscapadeTheatre '},\n",
       " {'text': ' Come on, theres no time for idle chit chat. Get working Dogs growl '},\n",
       " {'text': ' My windmill is fnished. Long live Animal Farm They fnish building the windmill and all stand in awe of it. The pigs shake hands and congratulate themselves. The animals drop down exhausted. The pigs go into the house. Scene '},\n",
       " {'text': ' Maybe next time you could bring me some whisky '},\n",
       " {'text': ' More eggs, eh '},\n",
       " {'text': ' Coming from house with Jones gun More eggs, comrade hens, we need more eggs '},\n",
       " {'text': ' We need to sell more eggs so we can buy more food. '},\n",
       " {'text': ' Consider the economics, we must sell the eggs escapadetheatre.es Animal Farm EscapadeTheatre '},\n",
       " {'text': ' Our feathered comrades, it appears, have lost all sense of reason And their reactionary acts are just the same as TREASON  '},\n",
       " {'text': ' Death to all traitors He shoots the hens with his gun. Squealer changes the commandment. Now is there anyone else who wants to protest Now, back to work The pigs exit to the house I think that went rather well, now lets have a drink '},\n",
       " {'text': ' Now that the animals have fnished building the windmill, they have nothing to do, they have become lazy. We must keep them under control. We must keep them busy working. '},\n",
       " {'text': ' Exactly. We must keep them busy. Comrade Squealer, take this and put it under the windmill. He gives him a stick of dynamite. '},\n",
       " {'text': ' Do as I say '},\n",
       " {'text': ' This is a disaster, comrades. Our enemy, Man, has won a victory. But we will not let him triumph. Animal Farm will survive. Animalism will rule We will build another windmill and it will be greater than the frst '},\n",
       " {'text': ' Shut up Be quiet you stupid animals. Whats all this noise on my farm '},\n",
       " {'text': ' Enters in full regalia Yes, thank you, thank you. I have been voted President. '},\n",
       " {'text': ' By me, myself and I. An absolute majority. I am President and Animal Farm is now a Republic. Sing the new hymn Squealer. '},\n",
       " {'text': ' Show them the fgures, Squealer '},\n",
       " {'text': ' Reading All animals are equal, but some are more equal than others. '},\n",
       " {'text': ' Simple. More proft for fewer people. More power in fewer hands. More control of beast and human. Use every piece of land. '},\n",
       " {'text': ' No, not to Animal Farm, a more appropriate name is Manor Farm. Squealer changes the sign '}]"
      ]
     },
     "execution_count": 21,
     "metadata": {},
     "output_type": "execute_result"
    }
   ],
   "source": [
    "requests.get(f\"http://127.0.0.1:9000/text/Napoleon/\") .json()"
   ]
  },
  {
   "cell_type": "code",
   "execution_count": null,
   "id": "afb081c4",
   "metadata": {},
   "outputs": [],
   "source": []
  }
 ],
 "metadata": {
  "kernelspec": {
   "display_name": "Python 3 (ipykernel)",
   "language": "python",
   "name": "python3"
  },
  "language_info": {
   "codemirror_mode": {
    "name": "ipython",
    "version": 3
   },
   "file_extension": ".py",
   "mimetype": "text/x-python",
   "name": "python",
   "nbconvert_exporter": "python",
   "pygments_lexer": "ipython3",
   "version": "3.9.12"
  }
 },
 "nbformat": 4,
 "nbformat_minor": 5
}
